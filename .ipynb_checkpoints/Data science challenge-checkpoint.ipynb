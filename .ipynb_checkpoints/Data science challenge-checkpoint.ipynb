{
 "cells": [
  {
   "cell_type": "markdown",
   "metadata": {},
   "source": [
    "# Tagup data science challenge\n",
    "\n",
    "ExampleCo, Inc has a problem: maintenance on their widgets is expensive. They have contracted with Tagup to help them implement predictive maintenance. They want us to provide a model that will allow them to prioritize maintenance for those units most likely to fail, and in particular to gain some warning---even just a few hours!---before a unit does fail.\n",
    "\n",
    "They collect two kinds of data for each unit. First, they have a remote monitoring system for the motors in each unit, which collects information about the motor (rotation speed, voltage, current) as well as two temperature probes (one on the motor and one at the inlet). Unfortunately, this system is antiquated and prone to communication errors, which manifest as nonsense measurements. Second, they have a rule-based alarming system, which can emit either warnings or errors; the system is known to be noisy, but it's the best they've got. \n",
    "\n",
    "They have given us just over 100MB of historical remote monitoring data from twenty of their units that failed in the field. The shortest-lived units failed after a few days; the longest-lived units failed after several years. Typical lifetimes are on the order of a year. This data is available in .csv files under `data/train` in this repository. In addition, they have provided us with operating data from their thirty active units for the past month; this data is available under `data/test` in this repository.\n",
    "\n",
    "You have two main objectives. First, **tell us as much as you can about the process that generated the data**. Does it show meaningful clustering? Do the observations appear independent? How accurately can we forecast future observations, and how long a window do we need to make an accurate forecast? Feel free to propose multiple models, but be sure to discuss the ways each is useful and the ways each is not useful. Second, **predict which of the thirty active units are most likely to fail**. The data from these units are in `data/test`. Be sure to quantify these predictions, and especially your certainty.\n",
    "\n",
    "A few notes to help:\n",
    "1. A good place to start is by addressing the noise due to comm errors. \n",
    "2. There is a signal in the data that you can identify and exploit to predict failure.\n",
    "3. If you can't find the signal in the noise, don't despair! We're much more interested in what you try and how you try it than in how successful you are at helping a fictional company with their fictional problems.\n",
    "4. Feel free to use any libraries you like, or even other programming languages. Your final results should be presented in this notebook, however.\n",
    "5. There are no constraints on the models or algorithms you can bring to bear. Some ideas include: unsupervised clustering algorithms such as k-means; hidden Markov models; forecasting models like ARMA; neural networks; survival models built using features extracted from the data; etc.\n",
    "6. Don't feel compelled to use all the data if you're not sure how. Feel free to focus on data from a single unit if that makes it easier to get started.\n",
    "7. Be sure to clearly articulate what you did, why you did it, and how the results should be interpreted. In particular you should be aware of the limitations of whatever approach or approaches you take.\n",
    "8. Don't hesitate to reach out with any questions."
   ]
  },
  {
   "cell_type": "code",
   "execution_count": 1,
   "metadata": {},
   "outputs": [
    {
     "data": {
      "text/plain": [
       "<Figure size 640x480 with 1 Axes>"
      ]
     },
     "metadata": {},
     "output_type": "display_data"
    },
    {
     "data": {
      "text/plain": [
       "<Figure size 640x480 with 1 Axes>"
      ]
     },
     "metadata": {},
     "output_type": "display_data"
    },
    {
     "data": {
      "text/html": [
       "<div>\n",
       "<style scoped>\n",
       "    .dataframe tbody tr th:only-of-type {\n",
       "        vertical-align: middle;\n",
       "    }\n",
       "\n",
       "    .dataframe tbody tr th {\n",
       "        vertical-align: top;\n",
       "    }\n",
       "\n",
       "    .dataframe thead th {\n",
       "        text-align: right;\n",
       "    }\n",
       "</style>\n",
       "<table border=\"1\" class=\"dataframe\">\n",
       "  <thead>\n",
       "    <tr style=\"text-align: right;\">\n",
       "      <th></th>\n",
       "      <th>rpm</th>\n",
       "      <th>motor_voltage</th>\n",
       "      <th>motor_current</th>\n",
       "      <th>motor_temp</th>\n",
       "      <th>inlet_temp</th>\n",
       "    </tr>\n",
       "  </thead>\n",
       "  <tbody>\n",
       "    <tr>\n",
       "      <th>count</th>\n",
       "      <td>9.171500e+04</td>\n",
       "      <td>9.171500e+04</td>\n",
       "      <td>9.171500e+04</td>\n",
       "      <td>9.171500e+04</td>\n",
       "      <td>9.171500e+04</td>\n",
       "    </tr>\n",
       "    <tr>\n",
       "      <th>mean</th>\n",
       "      <td>-8.111152e+46</td>\n",
       "      <td>-4.431337e+60</td>\n",
       "      <td>-1.387827e+56</td>\n",
       "      <td>-6.640742e+69</td>\n",
       "      <td>-1.937422e+48</td>\n",
       "    </tr>\n",
       "    <tr>\n",
       "      <th>std</th>\n",
       "      <td>2.456380e+49</td>\n",
       "      <td>1.903274e+63</td>\n",
       "      <td>4.202968e+58</td>\n",
       "      <td>2.011115e+72</td>\n",
       "      <td>5.867349e+50</td>\n",
       "    </tr>\n",
       "    <tr>\n",
       "      <th>min</th>\n",
       "      <td>-7.439020e+51</td>\n",
       "      <td>-5.565298e+65</td>\n",
       "      <td>-1.272847e+61</td>\n",
       "      <td>-6.090557e+74</td>\n",
       "      <td>-1.776896e+53</td>\n",
       "    </tr>\n",
       "    <tr>\n",
       "      <th>25%</th>\n",
       "      <td>1.017725e+03</td>\n",
       "      <td>2.311319e+02</td>\n",
       "      <td>3.239347e+01</td>\n",
       "      <td>1.179731e+02</td>\n",
       "      <td>6.489677e+01</td>\n",
       "    </tr>\n",
       "    <tr>\n",
       "      <th>50%</th>\n",
       "      <td>1.066347e+03</td>\n",
       "      <td>2.667104e+02</td>\n",
       "      <td>3.944687e+01</td>\n",
       "      <td>1.564521e+02</td>\n",
       "      <td>7.799157e+01</td>\n",
       "    </tr>\n",
       "    <tr>\n",
       "      <th>75%</th>\n",
       "      <td>1.106721e+03</td>\n",
       "      <td>2.993994e+02</td>\n",
       "      <td>4.607173e+01</td>\n",
       "      <td>1.978223e+02</td>\n",
       "      <td>9.086132e+01</td>\n",
       "    </tr>\n",
       "    <tr>\n",
       "      <th>max</th>\n",
       "      <td>7.978110e+44</td>\n",
       "      <td>1.500194e+65</td>\n",
       "      <td>1.555360e+55</td>\n",
       "      <td>3.117856e+55</td>\n",
       "      <td>1.710299e+40</td>\n",
       "    </tr>\n",
       "  </tbody>\n",
       "</table>\n",
       "</div>"
      ],
      "text/plain": [
       "                rpm  motor_voltage  motor_current    motor_temp    inlet_temp\n",
       "count  9.171500e+04   9.171500e+04   9.171500e+04  9.171500e+04  9.171500e+04\n",
       "mean  -8.111152e+46  -4.431337e+60  -1.387827e+56 -6.640742e+69 -1.937422e+48\n",
       "std    2.456380e+49   1.903274e+63   4.202968e+58  2.011115e+72  5.867349e+50\n",
       "min   -7.439020e+51  -5.565298e+65  -1.272847e+61 -6.090557e+74 -1.776896e+53\n",
       "25%    1.017725e+03   2.311319e+02   3.239347e+01  1.179731e+02  6.489677e+01\n",
       "50%    1.066347e+03   2.667104e+02   3.944687e+01  1.564521e+02  7.799157e+01\n",
       "75%    1.106721e+03   2.993994e+02   4.607173e+01  1.978223e+02  9.086132e+01\n",
       "max    7.978110e+44   1.500194e+65   1.555360e+55  3.117856e+55  1.710299e+40"
      ]
     },
     "metadata": {},
     "output_type": "display_data"
    },
    {
     "data": {
      "text/html": [
       "<div>\n",
       "<style scoped>\n",
       "    .dataframe tbody tr th:only-of-type {\n",
       "        vertical-align: middle;\n",
       "    }\n",
       "\n",
       "    .dataframe tbody tr th {\n",
       "        vertical-align: top;\n",
       "    }\n",
       "\n",
       "    .dataframe thead th {\n",
       "        text-align: right;\n",
       "    }\n",
       "</style>\n",
       "<table border=\"1\" class=\"dataframe\">\n",
       "  <thead>\n",
       "    <tr style=\"text-align: right;\">\n",
       "      <th></th>\n",
       "      <th>message</th>\n",
       "    </tr>\n",
       "  </thead>\n",
       "  <tbody>\n",
       "    <tr>\n",
       "      <th>count</th>\n",
       "      <td>305</td>\n",
       "    </tr>\n",
       "    <tr>\n",
       "      <th>unique</th>\n",
       "      <td>2</td>\n",
       "    </tr>\n",
       "    <tr>\n",
       "      <th>top</th>\n",
       "      <td>warning</td>\n",
       "    </tr>\n",
       "    <tr>\n",
       "      <th>freq</th>\n",
       "      <td>304</td>\n",
       "    </tr>\n",
       "  </tbody>\n",
       "</table>\n",
       "</div>"
      ],
      "text/plain": [
       "        message\n",
       "count       305\n",
       "unique        2\n",
       "top     warning\n",
       "freq        304"
      ]
     },
     "metadata": {},
     "output_type": "display_data"
    },
    {
     "name": "stdout",
     "output_type": "stream",
     "text": [
      "                                    rpm  motor_voltage  motor_current  \\\n",
      "timestamp                                                               \n",
      "2003-12-13 19:56:43.777979848  0.150438      -0.059544       0.045503   \n",
      "2003-12-13 20:07:32.457298714  0.511660       0.627101       0.208669   \n",
      "2003-12-13 20:13:43.182783330  0.824233       1.732618       0.286401   \n",
      "2003-12-13 20:27:19.295198297  1.506626       3.115258       0.483992   \n",
      "2003-12-13 20:35:08.719032171  2.034869       3.923323       0.851620   \n",
      "\n",
      "                               motor_temp  inlet_temp message  \n",
      "timestamp                                                      \n",
      "2003-12-13 19:56:43.777979848    5.084823    0.019528     NaN  \n",
      "2003-12-13 20:07:32.457298714    7.334172    2.081454     NaN  \n",
      "2003-12-13 20:13:43.182783330    8.843053    3.485346     NaN  \n",
      "2003-12-13 20:27:19.295198297   11.749493    6.041188     NaN  \n",
      "2003-12-13 20:35:08.719032171   12.947061    7.309662     NaN  \n",
      "<class 'pandas.core.frame.DataFrame'>\n",
      "Index: 92020 entries, 2003-12-13 19:56:43.777979848 to 2005-09-10 17:36:47.236452969\n",
      "Data columns (total 6 columns):\n",
      "rpm              91715 non-null float64\n",
      "motor_voltage    91715 non-null float64\n",
      "motor_current    91715 non-null float64\n",
      "motor_temp       91715 non-null float64\n",
      "inlet_temp       91715 non-null float64\n",
      "message          305 non-null object\n",
      "dtypes: float64(5), object(1)\n",
      "memory usage: 4.9+ MB\n"
     ]
    }
   ],
   "source": [
    "# To help you get started...\n",
    "from IPython.display import display\n",
    "import pandas as pd\n",
    "import matplotlib.pyplot as plt\n",
    "#%matplotlib inline \n",
    "\n",
    "def load_rms(filename):\n",
    "    return pd.read_csv(filename, index_col=\"timestamp\")\n",
    "def load_alarms(filename):\n",
    "    return pd.read_csv(filename, header=None, names=[\"timestamp\", \"message\"], index_col=\"timestamp\")#.describe()\n",
    "\n",
    "rms0 = load_rms('data/train/unit0000_rms.csv')\n",
    "alarms0 = load_alarms('data/train/unit0000_alarms.csv')\n",
    "rms0.loc[\"2005-08-01\":\"2005-09-01\"].plot(ylim=(-10, 1500))\n",
    "rms0.loc[\"2005-08-01\":\"2005-08-02\"].plot(ylim=(-10, 1500))\n",
    "plt.show()\n",
    "\n",
    "display(rms0.describe())\n",
    "display(alarms0.describe())\n",
    "\n",
    "data0 = rms0.merge(alarms0, how='outer', left_index=True, right_index=True)\n",
    "\n",
    "print(data0.head())\n",
    "data0.info()"
   ]
  },
  {
   "cell_type": "code",
   "execution_count": 2,
   "metadata": {},
   "outputs": [
    {
     "data": {
      "text/html": [
       "<div>\n",
       "<style scoped>\n",
       "    .dataframe tbody tr th:only-of-type {\n",
       "        vertical-align: middle;\n",
       "    }\n",
       "\n",
       "    .dataframe tbody tr th {\n",
       "        vertical-align: top;\n",
       "    }\n",
       "\n",
       "    .dataframe thead th {\n",
       "        text-align: right;\n",
       "    }\n",
       "</style>\n",
       "<table border=\"1\" class=\"dataframe\">\n",
       "  <thead>\n",
       "    <tr style=\"text-align: right;\">\n",
       "      <th></th>\n",
       "      <th>rpm</th>\n",
       "      <th>motor_voltage</th>\n",
       "      <th>motor_current</th>\n",
       "      <th>motor_temp</th>\n",
       "      <th>inlet_temp</th>\n",
       "      <th>delta</th>\n",
       "      <th>gap</th>\n",
       "    </tr>\n",
       "  </thead>\n",
       "  <tbody>\n",
       "    <tr>\n",
       "      <th>count</th>\n",
       "      <td>9.171500e+04</td>\n",
       "      <td>9.171500e+04</td>\n",
       "      <td>9.171500e+04</td>\n",
       "      <td>9.171500e+04</td>\n",
       "      <td>9.171500e+04</td>\n",
       "      <td>91715</td>\n",
       "      <td>91715.000000</td>\n",
       "    </tr>\n",
       "    <tr>\n",
       "      <th>mean</th>\n",
       "      <td>-8.111152e+46</td>\n",
       "      <td>-4.431337e+60</td>\n",
       "      <td>-1.387827e+56</td>\n",
       "      <td>-6.640742e+69</td>\n",
       "      <td>-1.937422e+48</td>\n",
       "      <td>0 days 00:09:59.993495</td>\n",
       "      <td>9.501041</td>\n",
       "    </tr>\n",
       "    <tr>\n",
       "      <th>std</th>\n",
       "      <td>2.456380e+49</td>\n",
       "      <td>1.903274e+63</td>\n",
       "      <td>4.202968e+58</td>\n",
       "      <td>2.011115e+72</td>\n",
       "      <td>5.867349e+50</td>\n",
       "      <td>0 days 00:01:24.782853</td>\n",
       "      <td>1.443798</td>\n",
       "    </tr>\n",
       "    <tr>\n",
       "      <th>min</th>\n",
       "      <td>-7.439020e+51</td>\n",
       "      <td>-5.565298e+65</td>\n",
       "      <td>-1.272847e+61</td>\n",
       "      <td>-6.090557e+74</td>\n",
       "      <td>-1.776896e+53</td>\n",
       "      <td>0 days 00:00:00</td>\n",
       "      <td>0.000000</td>\n",
       "    </tr>\n",
       "    <tr>\n",
       "      <th>25%</th>\n",
       "      <td>1.017725e+03</td>\n",
       "      <td>2.311319e+02</td>\n",
       "      <td>3.239347e+01</td>\n",
       "      <td>1.179731e+02</td>\n",
       "      <td>6.489677e+01</td>\n",
       "      <td>0 days 00:09:03.067593</td>\n",
       "      <td>9.000000</td>\n",
       "    </tr>\n",
       "    <tr>\n",
       "      <th>50%</th>\n",
       "      <td>1.066347e+03</td>\n",
       "      <td>2.667104e+02</td>\n",
       "      <td>3.944687e+01</td>\n",
       "      <td>1.564521e+02</td>\n",
       "      <td>7.799157e+01</td>\n",
       "      <td>0 days 00:10:00.459993</td>\n",
       "      <td>10.000000</td>\n",
       "    </tr>\n",
       "    <tr>\n",
       "      <th>75%</th>\n",
       "      <td>1.106721e+03</td>\n",
       "      <td>2.993994e+02</td>\n",
       "      <td>4.607173e+01</td>\n",
       "      <td>1.978223e+02</td>\n",
       "      <td>9.086132e+01</td>\n",
       "      <td>0 days 00:10:57.338524</td>\n",
       "      <td>10.000000</td>\n",
       "    </tr>\n",
       "    <tr>\n",
       "      <th>max</th>\n",
       "      <td>7.978110e+44</td>\n",
       "      <td>1.500194e+65</td>\n",
       "      <td>1.555360e+55</td>\n",
       "      <td>3.117856e+55</td>\n",
       "      <td>1.710299e+40</td>\n",
       "      <td>0 days 00:16:19.086002</td>\n",
       "      <td>16.000000</td>\n",
       "    </tr>\n",
       "  </tbody>\n",
       "</table>\n",
       "</div>"
      ],
      "text/plain": [
       "                rpm  motor_voltage  motor_current    motor_temp    inlet_temp  \\\n",
       "count  9.171500e+04   9.171500e+04   9.171500e+04  9.171500e+04  9.171500e+04   \n",
       "mean  -8.111152e+46  -4.431337e+60  -1.387827e+56 -6.640742e+69 -1.937422e+48   \n",
       "std    2.456380e+49   1.903274e+63   4.202968e+58  2.011115e+72  5.867349e+50   \n",
       "min   -7.439020e+51  -5.565298e+65  -1.272847e+61 -6.090557e+74 -1.776896e+53   \n",
       "25%    1.017725e+03   2.311319e+02   3.239347e+01  1.179731e+02  6.489677e+01   \n",
       "50%    1.066347e+03   2.667104e+02   3.944687e+01  1.564521e+02  7.799157e+01   \n",
       "75%    1.106721e+03   2.993994e+02   4.607173e+01  1.978223e+02  9.086132e+01   \n",
       "max    7.978110e+44   1.500194e+65   1.555360e+55  3.117856e+55  1.710299e+40   \n",
       "\n",
       "                        delta           gap  \n",
       "count                   91715  91715.000000  \n",
       "mean   0 days 00:09:59.993495      9.501041  \n",
       "std    0 days 00:01:24.782853      1.443798  \n",
       "min           0 days 00:00:00      0.000000  \n",
       "25%    0 days 00:09:03.067593      9.000000  \n",
       "50%    0 days 00:10:00.459993     10.000000  \n",
       "75%    0 days 00:10:57.338524     10.000000  \n",
       "max    0 days 00:16:19.086002     16.000000  "
      ]
     },
     "metadata": {},
     "output_type": "display_data"
    }
   ],
   "source": [
    "## I want to investigate on motor 0 how frequently the readings happen, if they are perfectly consistent\n",
    "## or if there is variation\n",
    "\n",
    "rms0.index = pd.to_datetime(rms0.index)\n",
    "rms0['time'] = rms0.index\n",
    "rms0['delta'] = (rms0['time']-rms0['time'].shift()).fillna(0)\n",
    "\n",
    "import numpy as np\n",
    "rms0['gap'] = rms0['delta'].apply(lambda x: x  / np.timedelta64(1,'m')).astype('int64') % (24*60)\n",
    "display(rms0.describe())\n",
    "\n"
   ]
  },
  {
   "cell_type": "markdown",
   "metadata": {},
   "source": [
    "Based on this is seems like there is some variation in the frequency of readings. Based on this I will consider rolling up the data to a standard level. It's a bit of a guess, but I think hourly data may be a good way to go. That should allow the models to still predict failure reasonably well such that ExampleCo will have some warning before a failure.\n",
    "\n",
    "Next steps are to gather all of the data together, create this gap variable, and then conduct some EDA."
   ]
  },
  {
   "cell_type": "code",
   "execution_count": 3,
   "metadata": {},
   "outputs": [],
   "source": [
    "##Import and combine all RMS and Alarms data into single respective dataframes\n",
    "import glob\n",
    "rmslist = glob.glob('data/train/*_rms.csv')\n",
    "alarmslist = glob.glob('data/train/*_alarms.csv')\n",
    "\n",
    "## Combine all RMS Data\n",
    "data = []\n",
    "ID = 0\n",
    "for filename in rmslist:\n",
    "    a = load_rms(filename)\n",
    "    a['id'] = ID\n",
    "    data.append(a)\n",
    "    ID = ID+1\n",
    "# Concatenate all RMS data into one DataFrame\n",
    "rms = pd.concat(data)\n",
    "\n",
    "## Combine all Alarms Data\n",
    "data = []\n",
    "ID = 0\n",
    "for filename in alarmslist:\n",
    "    b = load_alarms(filename)\n",
    "    b['id'] = ID\n",
    "    data.append(b)\n",
    "    ID = ID+1\n",
    "# Concatenate all Alarms data into one DataFrame   \n",
    "alarms = pd.concat(data)\n",
    "\n",
    "#display(rms.describe())\n",
    "#display(alarms.describe())\n",
    "#\n",
    "data = rms.merge(alarms, how='outer', on = 'id', left_index=True, right_index=True)\n",
    "\n",
    "#data.info()\n",
    "##How many records are there currently for each motor\n",
    "#print(\"records per motor\")\n",
    "#display(data.groupby('id').count())"
   ]
  },
  {
   "cell_type": "code",
   "execution_count": 4,
   "metadata": {},
   "outputs": [],
   "source": [
    "## Now I'm going to create the 'gap' variable on the whole dataset \n",
    "data.index = pd.to_datetime(data.index)\n",
    "data['time'] = data.index\n",
    "## Need to make sure the data are sorted correctly\n",
    "data=data.sort_values(['id', 'time'])\n",
    "data['delta'] = (data['time']-data['time'].shift()).fillna(0) \n",
    "data['gap'] = data['delta'].apply(lambda x: x  / np.timedelta64(1,'m')).astype('int64') % (24*60)\n"
   ]
  },
  {
   "cell_type": "code",
   "execution_count": 5,
   "metadata": {},
   "outputs": [
    {
     "data": {
      "image/png": "[encoded data removed]",
      "text/plain": [
       "<Figure size 432x288 with 1 Axes>"
      ]
     },
     "metadata": {
      "needs_background": "light"
     },
     "output_type": "display_data"
    },
    {
     "name": "stdout",
     "output_type": "stream",
     "text": [
      "          id\n",
      "gap         \n",
      "0        636\n",
      "1        581\n",
      "2        625\n",
      "3        615\n",
      "4        783\n",
      "5       2707\n",
      "6      14835\n",
      "7      61569\n",
      "8     159385\n",
      "9     257465\n",
      "10    257589\n",
      "11    159086\n",
      "12     60678\n",
      "13     14373\n",
      "14      2033\n",
      "15       181\n",
      "16        13\n",
      "40         1\n",
      "205        1\n",
      "305        1\n",
      "415        1\n",
      "458        1\n",
      "461        1\n",
      "477        1\n",
      "505        1\n",
      "658        1\n",
      "716        1\n",
      "874        1\n",
      "1014       1\n",
      "1032       1\n",
      "1038       1\n",
      "1154       1\n",
      "1182       1\n",
      "1267       1\n",
      "1405       1\n"
     ]
    }
   ],
   "source": [
    "#display(data['gap'].describe())\n",
    "plt.hist(data['gap'], bins=100)\n",
    "plt.show()\n",
    "print(data.groupby('gap')[['id']].count())"
   ]
  },
  {
   "cell_type": "markdown",
   "metadata": {},
   "source": [
    "The time gap between records for the whole dataset is pretty consistent with what we saw with motor 0. I will move forward with the plan to roll the data up to the hourly level."
   ]
  },
  {
   "cell_type": "code",
   "execution_count": 6,
   "metadata": {},
   "outputs": [
    {
     "name": "stdout",
     "output_type": "stream",
     "text": [
      "         rpm  motor_voltage  motor_current  motor_temp  inlet_temp    id  \\\n",
      "message                                                                    \n",
      "error      0              0              0           0           0    43   \n",
      "warning    0              0              0           0           0  2996   \n",
      "\n",
      "         time  delta   gap  \n",
      "message                     \n",
      "error      43     43    43  \n",
      "warning  2996   2996  2996  \n"
     ]
    }
   ],
   "source": [
    "## What are the messages??\n",
    "print(data.groupby('message').count())"
   ]
  },
  {
   "cell_type": "markdown",
   "metadata": {},
   "source": [
    "Based on what the messages are I think there are two possible ways forward, with respect to classifying failure. One would be the noticeable drops in RPM and other variables. The other, would be to treat 'error' as failure. \n",
    "\n",
    "* Change in the 11th hour...I first tried using 'error', which provided less than stellar results. Upon reflection and further digging into the data surrounding the error messages, it may make more sense to treat the drops in RPM as failure.  "
   ]
  },
  {
   "cell_type": "code",
   "execution_count": 7,
   "metadata": {},
   "outputs": [],
   "source": [
    "## Do some EDA by ID\n",
    "# Plot the values for each variable over time with a line for each 'id', on the same graph, or subgraphs"
   ]
  },
  {
   "cell_type": "markdown",
   "metadata": {},
   "source": [
    "Spent some time trying to create the graph I wanted above, but ran into too many issues. "
   ]
  },
  {
   "cell_type": "code",
   "execution_count": 8,
   "metadata": {},
   "outputs": [
    {
     "name": "stdout",
     "output_type": "stream",
     "text": [
      "              rpm  motor_voltage  motor_current    motor_temp    inlet_temp\n",
      "id                                                                         \n",
      "0   -8.111152e+46  -4.431337e+60  -1.387827e+56 -6.640742e+69 -1.937422e+48\n",
      "1    4.351757e+36  -2.035135e+38  -7.413540e+67 -1.447226e+53 -1.927103e+40\n",
      "2   -2.689733e+37   2.685303e+35  -1.468081e+30  1.816023e+34 -9.146221e+39\n",
      "3   2.454681e+110   2.789356e+50   2.447565e+91 -3.153717e+53 -1.177715e+62\n",
      "4    7.741562e+63  -1.121681e+48   1.492939e+60  8.270559e+56 -1.307910e+76\n",
      "5    1.695727e+77   3.316074e+81   2.930196e+49 -1.026680e+81 -1.448251e+48\n",
      "6    4.263050e+67  -4.122228e+64   2.028051e+64 -3.388059e+93 -1.896344e+51\n",
      "7    1.058303e+51   6.751820e+68  -1.496081e+51  7.068933e+56 -2.138988e+50\n",
      "8   -9.826381e+38  -4.982600e+48  -2.144675e+41  3.030226e+37 -1.585852e+28\n",
      "9   -2.019048e+56  -5.835606e+28  -3.617074e+39  3.869137e+39 -1.080940e+30\n",
      "10  -1.331781e+66   5.830445e+60  -9.329399e+43  1.658088e+36  1.183394e+66\n",
      "11   1.217051e+44  -3.408161e+48  -2.663043e+85 -1.182668e+80 -3.477070e+69\n",
      "12   4.009779e+51   1.108656e+55  -3.812729e+47 -1.033432e+65  3.363146e+45\n",
      "13   7.366644e+35  -2.224854e+31   1.639503e+28  1.434824e+36  1.992872e+47\n",
      "14  -1.836151e+29  -2.647438e+32   1.079664e+31  2.288937e+82  4.754923e+22\n",
      "15   2.429545e+31  -9.968325e+48  -1.499532e+34  9.373740e+40 -1.674104e+44\n",
      "16  -1.143256e+45  -4.329306e+72   1.885734e+42  8.024743e+67 -2.691526e+94\n",
      "17  -1.446280e+51  -7.872157e+63  -4.387053e+87 -8.459471e+39  9.815985e+49\n",
      "18   3.089421e+74   9.492944e+66  -4.396280e+46  2.124586e+50 -9.728967e+59\n",
      "19   1.118511e+56   8.848006e+50   1.784072e+70  1.654122e+78  3.334025e+56\n",
      "             rpm  motor_voltage  motor_current    motor_temp    inlet_temp\n",
      "id                                                                        \n",
      "0  -7.439020e+51  -5.565298e+65  -1.272847e+61 -6.090557e+74 -1.776896e+53\n",
      "1  -9.019337e+35  -5.384037e+42  -1.961623e+72 -3.829209e+57 -5.099375e+44\n",
      "2  -1.381278e+41  -4.158854e+33  -4.683450e+33 -8.061952e+33 -6.101444e+43\n",
      "3  -5.412782e+70  -6.619220e+51  -7.068951e+70 -3.913156e+58 -1.461226e+67\n",
      "4  -3.999505e+37  -5.476093e+52  -1.522587e+40 -9.295430e+47 -6.294317e+80\n",
      "5  -5.756215e+55  -5.806989e+49  -2.365760e+44 -7.664062e+85 -1.137143e+53\n",
      "6  -2.991611e+55  -6.594819e+69  -1.211541e+57 -5.420284e+98 -3.030594e+56\n",
      "7  -4.539436e+43  -4.155074e+34  -5.207110e+55 -1.075172e+48 -7.444696e+54\n",
      "8  -3.695629e+43  -5.094210e+52  -2.192716e+45 -1.583734e+30 -1.692098e+32\n",
      "9  -2.030759e+60  -5.830620e+32  -3.655886e+43 -3.200920e+27 -1.087793e+34\n",
      "10 -4.282075e+70  -9.256827e+43  -3.251744e+48 -1.794739e+39 -5.273259e+71\n",
      "11 -7.815682e+48  -2.037093e+53  -1.549225e+90 -6.880169e+84 -2.014728e+74\n",
      "12 -1.203550e+55  -6.538426e+46  -2.755612e+52 -8.182194e+69 -1.211310e+45\n",
      "13 -4.400423e+37  -3.177091e+34  -3.437909e+15 -1.009322e+35 -2.431732e+11\n",
      "14 -8.630743e+32  -1.228515e+36  -1.206515e+26 -6.176976e+34 -7.785171e+23\n",
      "15 -2.328964e+27  -6.482402e+52  -9.751456e+37 -5.467211e+23 -1.088670e+48\n",
      "16 -7.823673e+49  -2.962760e+77  -3.022025e+38 -1.619542e+71 -1.841946e+99\n",
      "17 -7.701002e+55  -4.192002e+68  -2.336150e+92 -4.504136e+44 -1.256253e+45\n",
      "18 -2.462656e+54  -5.729419e+40  -2.591653e+51 -2.153968e+55 -7.315502e+64\n",
      "19 -6.644071e+46  -1.991633e+53  -1.809813e+54 -3.242582e+46 -4.190559e+50\n",
      "              rpm  motor_voltage  motor_current    motor_temp    inlet_temp\n",
      "id                                                                         \n",
      "0    7.978110e+44   1.500194e+65   1.555360e+55  3.117856e+55  1.710299e+40\n",
      "1    1.034991e+41   2.038898e+39   5.627921e+47  5.145121e+47  2.610698e+40\n",
      "2    4.416570e+32   1.791370e+39   3.616737e+31  1.211550e+38  5.706746e+25\n",
      "3   3.045597e+115   3.369909e+55   3.036767e+96  2.452012e+54  1.078631e+54\n",
      "4    3.725627e+68   8.013418e+50   7.184704e+64  3.965503e+61  2.883928e+66\n",
      "5    1.265843e+82   2.475416e+86   2.187362e+54  7.757266e+64  4.240392e+51\n",
      "6    6.820112e+72   8.207415e+60   3.244516e+69  1.533707e+65  9.432153e+52\n",
      "7    2.079526e+55   2.349971e+73   1.046128e+47  2.460342e+61  5.171462e+34\n",
      "8    2.690980e+43   1.059611e+26   6.940626e+36  3.098103e+41  6.359671e+30\n",
      "9    3.215312e+40   8.319905e+31   1.780322e+41  3.886573e+43  5.835375e+30\n",
      "10   2.257576e+41   1.874663e+65   2.519882e+47  5.437001e+40  5.653756e+71\n",
      "11   1.489594e+49   5.439444e+51   2.020332e+54  1.312119e+47  5.079006e+57\n",
      "12   3.266305e+56   8.777785e+59   7.541836e+44  8.215257e+48  2.365748e+50\n",
      "13   1.095961e+39   2.463536e+26   2.339025e+31  2.049029e+39  2.845821e+50\n",
      "14   7.376804e+28   9.422751e+26   5.086298e+34  1.078318e+86  2.248652e+26\n",
      "15   1.579933e+35   3.293185e+31   2.754610e+26  6.095743e+44  4.623151e+30\n",
      "16   1.061155e+42   4.220031e+52   1.290502e+47  5.669399e+72  1.791897e+54\n",
      "17   5.856694e+49   5.149085e+46   4.426467e+38  1.620735e+39  5.227110e+54\n",
      "18   2.323029e+79   7.138030e+71   2.796064e+48  3.749487e+55  1.537164e+57\n",
      "19   2.723238e+60   2.174132e+55   4.343680e+74  4.027291e+82  8.117351e+60\n"
     ]
    }
   ],
   "source": [
    "# Look at mean min and max of variables for each motor\n",
    "prime = ['rpm','motor_voltage','motor_current','motor_temp','inlet_temp']\n",
    "print(data.groupby('id')[prime].mean())\n",
    "print(data.groupby('id')[prime].min())\n",
    "print(data.groupby('id')[prime].max())"
   ]
  },
  {
   "cell_type": "code",
   "execution_count": 9,
   "metadata": {
    "scrolled": true
   },
   "outputs": [
    {
     "name": "stdout",
     "output_type": "stream",
     "text": [
      "rpm              0.003855\n",
      "motor_voltage    0.003855\n",
      "motor_current    0.003855\n",
      "motor_temp       0.003855\n",
      "inlet_temp       0.003855\n",
      "id               0.003843\n",
      "message          0.000000\n",
      "time             0.003843\n",
      "delta            0.003843\n",
      "gap              0.003843\n",
      "dtype: float64 >10000\n",
      ".\n",
      "rpm              0.003828\n",
      "motor_voltage    0.003828\n",
      "motor_current    0.003828\n",
      "motor_temp       0.003828\n",
      "inlet_temp       0.003828\n",
      "id               0.003816\n",
      "message          0.000000\n",
      "time             0.003816\n",
      "delta            0.003816\n",
      "gap              0.003816\n",
      "dtype: float64 <-10000\n",
      ".\n",
      "rpm              0.012655\n",
      "motor_voltage    0.012655\n",
      "motor_current    0.012655\n",
      "motor_temp       0.012655\n",
      "inlet_temp       0.012655\n",
      "id               0.012616\n",
      "message          0.000000\n",
      "time             0.012616\n",
      "delta            0.012616\n",
      "gap              0.012616\n",
      "dtype: float64 <0\n",
      ".\n",
      "rpm              0.004009\n",
      "motor_voltage    0.004009\n",
      "motor_current    0.004009\n",
      "motor_temp       0.004009\n",
      "inlet_temp       0.004009\n",
      "id               0.003996\n",
      "message          0.000000\n",
      "time             0.003996\n",
      "delta            0.003996\n",
      "gap              0.003996\n",
      "dtype: float64 >5000\n"
     ]
    },
    {
     "data": {
      "image/png": "[encoded data removed]",
      "text/plain": [
       "<Figure size 432x288 with 1 Axes>"
      ]
     },
     "metadata": {
      "needs_background": "light"
     },
     "output_type": "display_data"
    }
   ],
   "source": [
    "## Super large, and negative RPM values do not make any sense so I want to try and look at \n",
    "## just the most common 98-99% of the data\n",
    "\n",
    "## This block looks at the percentage of records that fall into potential outlier ranges\n",
    "print(data[data['rpm']>10000].count()/data.count(), \">10000\")\n",
    "print('.')\n",
    "print(data[data['rpm']<-10000].count()/data.count(), '<-10000')\n",
    "print('.')\n",
    "print(data[data['rpm']<0].count()/data.count(), '<0')\n",
    "print('.')\n",
    "print(data[data['rpm']>=5000].count()/data.count(), '>5000')\n",
    "\n",
    "## Limit the data to RPMs between 0 and 5,000, than graph it\n",
    "limit = data[((data['rpm']<=5000) & (data['rpm']>0))]\n",
    "\n",
    "plt.hist(limit['rpm'], bins = 1000)\n",
    "plt.show()"
   ]
  },
  {
   "cell_type": "markdown",
   "metadata": {},
   "source": [
    "When we essentially zoom in on the majority of the data, it's pretty easy to see here that there are two major spikes, around 1200 rpm and around 0 rpm. Values that are far about that spike, or negative, are probably errors and should be removed from the data. It's a crued way to do it, but I'm going to eyeball the cutoff points and move forward, keeping just records between 0 and 5000 rpm. It would be better to base this on std errors from the mean. Also, if there was time, I would prefer to look at all of the other variables and come up with a more sound way of trimming outliers and potentially bad data. RPM seems to be to be a reasonable measure to base this on, if for no other reason than I understand that metric of motor performance better than the others.\n",
    "\n",
    "* The above reasoning was in thinking about 'error' denoting failure. In this last minute change I will still limit the upper end of the data to 5000, because I still believe massive and rare spikes in RPM probably represent errors in the data. \n",
    "* Because I'm treating the crashes as failure, I will reset negative RPM values to 0. I will do the same to current and voltage ... because those also shouldn't be negative. Given a visual inspection of the data, when RPM crashes, so do current and voltage. Motor and Inlet temps do not crash, which makes sense ... because of thermo dynamics."
   ]
  },
  {
   "cell_type": "code",
   "execution_count": 10,
   "metadata": {},
   "outputs": [
    {
     "name": "stderr",
     "output_type": "stream",
     "text": [
      "/Library/Frameworks/Python.framework/Versions/3.7/lib/python3.7/site-packages/ipykernel_launcher.py:4: SettingWithCopyWarning: \n",
      "A value is trying to be set on a copy of a slice from a DataFrame.\n",
      "Try using .loc[row_indexer,col_indexer] = value instead\n",
      "\n",
      "See the caveats in the documentation: http://pandas.pydata.org/pandas-docs/stable/indexing.html#indexing-view-versus-copy\n",
      "  after removing the cwd from sys.path.\n",
      "/Library/Frameworks/Python.framework/Versions/3.7/lib/python3.7/site-packages/ipykernel_launcher.py:5: SettingWithCopyWarning: \n",
      "A value is trying to be set on a copy of a slice from a DataFrame.\n",
      "Try using .loc[row_indexer,col_indexer] = value instead\n",
      "\n",
      "See the caveats in the documentation: http://pandas.pydata.org/pandas-docs/stable/indexing.html#indexing-view-versus-copy\n",
      "  \"\"\"\n",
      "/Library/Frameworks/Python.framework/Versions/3.7/lib/python3.7/site-packages/ipykernel_launcher.py:6: SettingWithCopyWarning: \n",
      "A value is trying to be set on a copy of a slice from a DataFrame.\n",
      "Try using .loc[row_indexer,col_indexer] = value instead\n",
      "\n",
      "See the caveats in the documentation: http://pandas.pydata.org/pandas-docs/stable/indexing.html#indexing-view-versus-copy\n",
      "  \n",
      "/Library/Frameworks/Python.framework/Versions/3.7/lib/python3.7/site-packages/ipykernel_launcher.py:9: SettingWithCopyWarning: \n",
      "A value is trying to be set on a copy of a slice from a DataFrame.\n",
      "Try using .loc[row_indexer,col_indexer] = value instead\n",
      "\n",
      "See the caveats in the documentation: http://pandas.pydata.org/pandas-docs/stable/indexing.html#indexing-view-versus-copy\n",
      "  if __name__ == '__main__':\n"
     ]
    }
   ],
   "source": [
    "## Limit the data, keeping records with an RPM between 0 and 5000 \n",
    "## Messages are on rows with null RPM values. I will roll the messages data up as well and merge back in later.\n",
    "datr = data[((data['rpm']<=5000))]\n",
    "datr['rpm'] = np.where(datr['rpm']<0,0,datr['rpm'])\n",
    "datr['motor_current'] = np.where(datr['motor_current']<0,0,datr['motor_current'])\n",
    "datr['motor_voltage'] = np.where(datr['motor_voltage']<0,0,datr['motor_voltage'])\n",
    "\n",
    "## Create the failure variable\n",
    "datr['failure'] = np.where(datr['rpm']<=0,1,0)\n",
    "\n"
   ]
  },
  {
   "cell_type": "code",
   "execution_count": 11,
   "metadata": {},
   "outputs": [],
   "source": [
    "## Roll up the data to hourly means\n",
    "varz = ['rpm','motor_voltage','motor_current','motor_temp','inlet_temp','id', 'failure']\n",
    "datr = datr[varz]\n",
    "datr.index = datr.index.round('H')\n",
    "datr['time'] = datr.index\n",
    "hr = datr.groupby(['id','time']).mean()\n",
    "\n",
    "#print(hr.info())\n",
    "#print(hr.head())"
   ]
  },
  {
   "cell_type": "markdown",
   "metadata": {},
   "source": [
    "I think(hope) the warning above can be ignored. I do not know a better way alter the level of the timestamp index to be rounded to the hour, and this method seems to have worked...\n",
    "\n",
    "In collapsing the data to the hourly level I have lost the 'message' column. In the following block I will reintroduce it"
   ]
  },
  {
   "cell_type": "code",
   "execution_count": 12,
   "metadata": {},
   "outputs": [
    {
     "name": "stdout",
     "output_type": "stream",
     "text": [
      "duplicated messages: 3037\n",
      "duplicated records: 0\n"
     ]
    }
   ],
   "source": [
    "#print(alarms.head())\n",
    "message = pd.DataFrame(alarms)\n",
    "message.index = pd.to_datetime(message.index)\n",
    "message.index = message.index.round('H')\n",
    "## Merge back in the hourly alarms data \n",
    "message.reset_index(inplace=True)\n",
    "message = message.rename(columns={'timestamp':'time'})\n",
    "message.set_index(['id','time'], inplace=True)\n",
    "print(\"duplicated messages:\", message.duplicated().sum())\n",
    "print(\"duplicated records:\", hr.duplicated().sum())\n",
    "hourly = hr.merge(message, how='left', left_index=True, right_index=True)\n",
    "#hourly.info()\n"
   ]
  },
  {
   "cell_type": "markdown",
   "metadata": {},
   "source": [
    "Now that the data has been rolled up to the hourly level. I want to run a linear regression on the warning and error messages. The goal of this is to see which of the variables has the largest impact on leading towards those messages\n"
   ]
  },
  {
   "cell_type": "code",
   "execution_count": 13,
   "metadata": {},
   "outputs": [
    {
     "name": "stdout",
     "output_type": "stream",
     "text": [
      "failure  0.000000  0.142857  0.166667  0.200000  0.333333  0.400000  0.500000  \\\n",
      "message                                                                         \n",
      "error          39         0         1         0         1         1         0   \n",
      "warning      2868         1       118         3         2         0         2   \n",
      "\n",
      "failure  0.600000  0.666667  \n",
      "message                      \n",
      "error           0         1  \n",
      "warning         1         1  \n",
      "failure     0    1\n",
      "message           \n",
      "error      39    4\n",
      "warning  2868  128\n"
     ]
    }
   ],
   "source": [
    "\n",
    "print(pd.crosstab(hourly['message'],hourly['failure']))\n",
    "# Redo the failure variable so it is simple 0 and 1\n",
    "hourly['failure'] = np.where(hourly['failure']>0,1,0)\n",
    "print(pd.crosstab(hourly['message'],hourly['failure']))\n",
    "\n",
    "cats = pd.DataFrame(pd.get_dummies(hourly['message']))\n",
    "fin = hourly.merge(cats, how = 'left', left_index=True, right_index=True)\n",
    "#print(fin.info())\n"
   ]
  },
  {
   "cell_type": "code",
   "execution_count": 14,
   "metadata": {},
   "outputs": [
    {
     "name": "stdout",
     "output_type": "stream",
     "text": [
      "Intercept        1.524005e-176\n",
      "rpm              -1.293141e-97\n",
      "motor_voltage     6.293239e-91\n",
      "motor_current     1.975785e-96\n",
      "motor_temp      -7.442524e-108\n",
      "inlet_temp      -8.342007e-108\n",
      "error           -3.815734e-183\n",
      "warning         -1.633119e-181\n",
      "dtype: float64\n",
      "                            OLS Regression Results                            \n",
      "==============================================================================\n",
      "Dep. Variable:                failure   R-squared:                      -0.050\n",
      "Model:                            OLS   Adj. R-squared:                 -0.050\n",
      "Method:                 Least Squares   F-statistic:                    -2623.\n",
      "Date:                Fri, 09 Nov 2018   Prob (F-statistic):               1.00\n",
      "Time:                        10:23:11   Log-Likelihood:                 17486.\n",
      "No. Observations:              166279   AIC:                        -3.496e+04\n",
      "Df Residuals:                  166275   BIC:                        -3.492e+04\n",
      "Df Model:                           3                                         \n",
      "Covariance Type:            nonrobust                                         \n",
      "==================================================================================\n",
      "                     coef    std err          t      P>|t|      [0.025      0.975]\n",
      "----------------------------------------------------------------------------------\n",
      "Intercept      1.524e-176          0        inf      0.000   1.52e-176   1.52e-176\n",
      "rpm            -1.293e-97   1.08e-93     -0.000      1.000   -2.13e-93    2.13e-93\n",
      "motor_voltage   6.293e-91   5.28e-87      0.000      1.000   -1.03e-86    1.03e-86\n",
      "motor_current   1.976e-96    4.3e-97      4.591      0.000    1.13e-96    2.82e-96\n",
      "motor_temp    -7.443e-108   2.41e-99  -3.09e-09      1.000   -4.73e-99    4.73e-99\n",
      "inlet_temp    -8.342e-108   7.1e-100  -1.18e-08      1.000   -1.39e-99    1.39e-99\n",
      "error         -3.816e-183          0       -inf      0.000  -3.82e-183  -3.82e-183\n",
      "warning       -1.633e-181          0       -inf      0.000  -1.63e-181  -1.63e-181\n",
      "==============================================================================\n",
      "Omnibus:                   139127.791   Durbin-Watson:                   1.680\n",
      "Prob(Omnibus):                  0.000   Jarque-Bera (JB):          2304300.289\n",
      "Skew:                           4.258   Prob(JB):                         0.00\n",
      "Kurtosis:                      19.127   Cond. No.                     4.14e+97\n",
      "==============================================================================\n",
      "\n",
      "Warnings:\n",
      "[1] Standard Errors assume that the covariance matrix of the errors is correctly specified.\n",
      "[2] The condition number is large, 4.14e+97. This might indicate that there are\n",
      "strong multicollinearity or other numerical problems.\n"
     ]
    },
    {
     "name": "stderr",
     "output_type": "stream",
     "text": [
      "/Library/Frameworks/Python.framework/Versions/3.7/lib/python3.7/site-packages/statsmodels/base/model.py:1100: RuntimeWarning: divide by zero encountered in true_divide\n",
      "  return self.params / self.bse\n"
     ]
    }
   ],
   "source": [
    "import statsmodels.formula.api as sm\n",
    "reg = sm.ols(formula=\"failure ~ rpm + motor_voltage + motor_current + motor_temp + inlet_temp + error + warning\", data=fin).fit()\n",
    "print(reg.params)\n",
    "print(reg.summary())"
   ]
  },
  {
   "cell_type": "markdown",
   "metadata": {},
   "source": [
    "This counts as the first regression that I have offically run using python. The results don't look great ... the coefficients are all infinitesimally small, and r2 is nearly 0. My assumption here is that I wrote the code incorrectly, so I'll try a different method.\n",
    "\n",
    "I know how to write a linear model in a supervised learning framework ... Hopefully it makes more sense."
   ]
  },
  {
   "cell_type": "code",
   "execution_count": 15,
   "metadata": {},
   "outputs": [
    {
     "name": "stderr",
     "output_type": "stream",
     "text": [
      "/Library/Frameworks/Python.framework/Versions/3.7/lib/python3.7/site-packages/sklearn/linear_model/base.py:485: RuntimeWarning: internal gelsd driver lwork query error, required iwork dimension not returned. This is likely the result of LAPACK bug 0038, fixed in LAPACK 3.2.2 (released July 21, 2010). Falling back to 'gelss' driver.\n",
      "  linalg.lstsq(X, y)\n"
     ]
    },
    {
     "data": {
      "image/png": "[encoded data removed]",
      "text/plain": [
       "<Figure size 432x288 with 1 Axes>"
      ]
     },
     "metadata": {
      "needs_background": "light"
     },
     "output_type": "display_data"
    }
   ],
   "source": [
    "from sklearn import linear_model as lm\n",
    "from sklearn import metrics \n",
    "from sklearn.model_selection import train_test_split\n",
    "# Set the dependent variables\n",
    "prime = ['rpm','motor_voltage','motor_current','motor_temp','inlet_temp', 'error', 'warning']\n",
    "X = fin[prime]\n",
    "\n",
    "# Split the targets into training/testing sets\n",
    "y = fin['failure']\n",
    "\n",
    "# Create training and test sets\n",
    "X_train, X_test, y_train, y_test = train_test_split(X, y, test_size = 0.3, random_state=42)\n",
    "\n",
    "# Create the regression object\n",
    "reg = lm.LinearRegression()\n",
    "\n",
    "# Fit the classifier to the training data\n",
    "reg.fit(X_train, y_train)\n",
    "\n",
    "# Predict on the test set\n",
    "y_pred = reg.predict(X_test)\n",
    "\n",
    "# Plot regression line\n",
    "plt.plot(X_test, y_pred, color='black', linewidth=3)\n",
    "plt.show()\n",
    "\n"
   ]
  },
  {
   "cell_type": "markdown",
   "metadata": {},
   "source": [
    "Well that ^ line is a little odd ... I would like to be able to make a scatter plot of the data and overlay linear regression lines for each variable. Unfortunately I don't really know how to do that, so I will charge forward into attempting to predict the likelihood that a motor will fail. "
   ]
  },
  {
   "cell_type": "markdown",
   "metadata": {},
   "source": [
    "I would ideally like to attempt a survival analysis on these data. However, given my inexperience with survival analyses, and the limited amount of time that I have left, I will revert to a model that I have used in the past. Logistic regression is used to determine which factors have the greatest impact on the independant variable changing from 0 to 1. Based on my understanding of supervised learning, this should allow me to predict that change based on the variables included in the model. \n",
    "\n",
    "This continues on my assumption that message = 'error' denotes failure of the motor. "
   ]
  },
  {
   "cell_type": "code",
   "execution_count": 16,
   "metadata": {},
   "outputs": [
    {
     "name": "stdout",
     "output_type": "stream",
     "text": [
      "Accuracy: 0.03484083072728731\n",
      "Precision: 0.02863254895507652\n",
      "Recall: 0.6015557476231633\n"
     ]
    },
    {
     "name": "stderr",
     "output_type": "stream",
     "text": [
      "/Library/Frameworks/Python.framework/Versions/3.7/lib/python3.7/site-packages/sklearn/linear_model/sag.py:334: ConvergenceWarning: The max_iter was reached which means the coef_ did not converge\n",
      "  \"the coef_ did not converge\", ConvergenceWarning)\n"
     ]
    }
   ],
   "source": [
    "from sklearn.linear_model import LogisticRegression\n",
    "\n",
    "prime = ['rpm','motor_voltage','motor_current','motor_temp','inlet_temp','error', 'warning' ]\n",
    "X = fin[prime]\n",
    "y = fin['failure']\n",
    "# Create training and test sets\n",
    "X_train, X_test, y_train, y_test = train_test_split(X, y, test_size = 0.3, random_state=42)\n",
    "logreg = LogisticRegression(solver='sag')\n",
    "# fit the model with data\n",
    "logreg.fit(X_train,y_train)\n",
    "#predict\n",
    "y_pred=logreg.predict(X_test)\n",
    "\n",
    "print(\"Accuracy:\",metrics.accuracy_score(y_test, y_pred))\n",
    "print(\"Precision:\",metrics.precision_score(y_test, y_pred))\n",
    "print(\"Recall:\",metrics.recall_score(y_test, y_pred))"
   ]
  },
  {
   "cell_type": "markdown",
   "metadata": {},
   "source": [
    "I could not figure out what the above warning really means. "
   ]
  },
  {
   "cell_type": "markdown",
   "metadata": {},
   "source": [
    "This may be the limit of my current understanding of supervised learning. It seems that this logistic regression with all of the RMS columns included as dependent variables did a reasonable job of predicting 'error', with .60 recall score. Accuracy is super low though. When I ran this model on the full data without limiting 'rpm' to 0-5000, the Accuracy was 97%, but recall was very low. I simply do not have the time available to research why that might be the case. My intuition says the the Logistic model is not the right model to use here. With some more time, I would do my research on other feasible models to use to solve the problem.\n",
    "\n",
    "I do not know how to create a meaningful output that would show which columns had the greatest impact on that prediction. If I knew how to the write the code I would create an output that shows the coefficient of each column in the logistic regression."
   ]
  },
  {
   "cell_type": "markdown",
   "metadata": {},
   "source": [
    "Now that I have a useable (not wonderful) model, I will train it on the entire training dataset and apply it to the provided test data."
   ]
  },
  {
   "cell_type": "code",
   "execution_count": 17,
   "metadata": {},
   "outputs": [],
   "source": [
    "## Load the official Test Data\n",
    "rmslist = glob.glob('data/test/*_rms.csv')\n",
    "alarmslist = glob.glob('data/test/*_alarms.csv')\n",
    "\n",
    "## Combine all RMS Data\n",
    "data = []\n",
    "ID = 20\n",
    "for filename in rmslist:\n",
    "    a = load_rms(filename)\n",
    "    a['id'] = ID\n",
    "    data.append(a)\n",
    "    ID = ID+1\n",
    "# Concatenate all RMS data into one DataFrame\n",
    "rmsT = pd.concat(data)\n",
    "## Combine all Alarms Data\n",
    "data = []\n",
    "ID = 20\n",
    "for filename in alarmslist:\n",
    "    b = load_alarms(filename)\n",
    "    b['id'] = ID\n",
    "    data.append(b)\n",
    "    ID = ID+1\n",
    "# Concatenate all Alarms data into one DataFrame   \n",
    "alarmsT = pd.concat(data)\n",
    "test = rmsT.merge(alarmsT, how='outer', on = 'id', left_index=True, right_index=True)\n",
    "test.index = pd.to_datetime(test.index)\n",
    "\n",
    "#print(test.groupby('id').count())\n",
    "#print(test.info())\n",
    "#print out some of the data and look at it\n",
    "#test[test['id']==25].to_csv('data/test_25.csv')\n",
    "\n",
    "\n",
    "##Limit the data to the same range as the training data\n",
    "test = test[((test['rpm']<=5000))]\n",
    "test['rpm'] = np.where(test['rpm']<0,0,test['rpm'])\n",
    "test['motor_current'] = np.where(test['motor_current']<0,0,test['motor_current'])\n",
    "test['motor_voltage'] = np.where(test['motor_voltage']<0,0,test['motor_voltage'])\n",
    "test['failure'] = np.where(test['rpm']<=0,1,0)\n"
   ]
  },
  {
   "cell_type": "markdown",
   "metadata": {},
   "source": [
    "Do the same final processing as with the training data.\n"
   ]
  },
  {
   "cell_type": "code",
   "execution_count": 18,
   "metadata": {},
   "outputs": [],
   "source": [
    "\n",
    "##Roll the data up to the hourly level\n",
    "varz = ['rpm','motor_voltage','motor_current','motor_temp','inlet_temp','id','failure']\n",
    "df = test[varz]\n",
    "#print(datr.head())\n",
    "\n",
    "df.index = df.index.round('H')\n",
    "df['time'] = df.index\n",
    "df = df.groupby(['id','time']).mean()\n",
    "## Remerge in the messages at the hour level\n",
    "message = pd.DataFrame(alarmsT)\n",
    "message.index = pd.to_datetime(message.index)\n",
    "message.index = message.index.round('H')\n",
    "message.reset_index(inplace=True)\n",
    "message = message.rename(columns={'timestamp':'time'})\n",
    "message.set_index(['id','time'], inplace=True)\n",
    "\n",
    "test = df.merge(message, how='left', left_index=True, right_index=True)\n",
    "cats = pd.DataFrame(pd.get_dummies(test['message']))\n",
    "test = df.merge(cats, how = 'outer', left_index=True, right_index=True)\n",
    "test['failure'] = np.where(test['failure']>0,1,0)\n",
    "\n"
   ]
  },
  {
   "cell_type": "code",
   "execution_count": 19,
   "metadata": {},
   "outputs": [
    {
     "data": {
      "text/html": [
       "<div>\n",
       "<style scoped>\n",
       "    .dataframe tbody tr th:only-of-type {\n",
       "        vertical-align: middle;\n",
       "    }\n",
       "\n",
       "    .dataframe tbody tr th {\n",
       "        vertical-align: top;\n",
       "    }\n",
       "\n",
       "    .dataframe thead th {\n",
       "        text-align: right;\n",
       "    }\n",
       "</style>\n",
       "<table border=\"1\" class=\"dataframe\">\n",
       "  <thead>\n",
       "    <tr style=\"text-align: right;\">\n",
       "      <th></th>\n",
       "      <th>rpm</th>\n",
       "      <th>motor_voltage</th>\n",
       "      <th>motor_current</th>\n",
       "      <th>motor_temp</th>\n",
       "      <th>inlet_temp</th>\n",
       "      <th>failure</th>\n",
       "      <th>error</th>\n",
       "      <th>warning</th>\n",
       "    </tr>\n",
       "  </thead>\n",
       "  <tbody>\n",
       "    <tr>\n",
       "      <th>count</th>\n",
       "      <td>21848.000000</td>\n",
       "      <td>2.184800e+04</td>\n",
       "      <td>2.184800e+04</td>\n",
       "      <td>2.184800e+04</td>\n",
       "      <td>2.184800e+04</td>\n",
       "      <td>21848.000000</td>\n",
       "      <td>21848.000000</td>\n",
       "      <td>21848.000000</td>\n",
       "    </tr>\n",
       "    <tr>\n",
       "      <th>mean</th>\n",
       "      <td>931.117254</td>\n",
       "      <td>2.817374e+50</td>\n",
       "      <td>5.383985e+60</td>\n",
       "      <td>6.798236e+50</td>\n",
       "      <td>4.369724e+71</td>\n",
       "      <td>0.050806</td>\n",
       "      <td>0.000275</td>\n",
       "      <td>0.018583</td>\n",
       "    </tr>\n",
       "    <tr>\n",
       "      <th>std</th>\n",
       "      <td>335.269942</td>\n",
       "      <td>4.159719e+52</td>\n",
       "      <td>7.920968e+62</td>\n",
       "      <td>9.883808e+52</td>\n",
       "      <td>6.472819e+73</td>\n",
       "      <td>0.219605</td>\n",
       "      <td>0.016570</td>\n",
       "      <td>0.135050</td>\n",
       "    </tr>\n",
       "    <tr>\n",
       "      <th>min</th>\n",
       "      <td>0.000000</td>\n",
       "      <td>0.000000e+00</td>\n",
       "      <td>0.000000e+00</td>\n",
       "      <td>-9.100354e+47</td>\n",
       "      <td>-2.052197e+73</td>\n",
       "      <td>0.000000</td>\n",
       "      <td>0.000000</td>\n",
       "      <td>0.000000</td>\n",
       "    </tr>\n",
       "    <tr>\n",
       "      <th>25%</th>\n",
       "      <td>1036.329557</td>\n",
       "      <td>2.353436e+02</td>\n",
       "      <td>3.337019e+01</td>\n",
       "      <td>1.209592e+02</td>\n",
       "      <td>6.436265e+01</td>\n",
       "      <td>0.000000</td>\n",
       "      <td>0.000000</td>\n",
       "      <td>0.000000</td>\n",
       "    </tr>\n",
       "    <tr>\n",
       "      <th>50%</th>\n",
       "      <td>1065.874591</td>\n",
       "      <td>2.597881e+02</td>\n",
       "      <td>3.799407e+01</td>\n",
       "      <td>1.478843e+02</td>\n",
       "      <td>7.531506e+01</td>\n",
       "      <td>0.000000</td>\n",
       "      <td>0.000000</td>\n",
       "      <td>0.000000</td>\n",
       "    </tr>\n",
       "    <tr>\n",
       "      <th>75%</th>\n",
       "      <td>1085.232276</td>\n",
       "      <td>2.810791e+02</td>\n",
       "      <td>4.217362e+01</td>\n",
       "      <td>1.735541e+02</td>\n",
       "      <td>8.478798e+01</td>\n",
       "      <td>0.000000</td>\n",
       "      <td>0.000000</td>\n",
       "      <td>0.000000</td>\n",
       "    </tr>\n",
       "    <tr>\n",
       "      <th>max</th>\n",
       "      <td>1754.257099</td>\n",
       "      <td>6.148505e+54</td>\n",
       "      <td>1.170791e+65</td>\n",
       "      <td>1.460727e+55</td>\n",
       "      <td>9.567496e+75</td>\n",
       "      <td>1.000000</td>\n",
       "      <td>1.000000</td>\n",
       "      <td>1.000000</td>\n",
       "    </tr>\n",
       "  </tbody>\n",
       "</table>\n",
       "</div>"
      ],
      "text/plain": [
       "                rpm  motor_voltage  motor_current    motor_temp    inlet_temp  \\\n",
       "count  21848.000000   2.184800e+04   2.184800e+04  2.184800e+04  2.184800e+04   \n",
       "mean     931.117254   2.817374e+50   5.383985e+60  6.798236e+50  4.369724e+71   \n",
       "std      335.269942   4.159719e+52   7.920968e+62  9.883808e+52  6.472819e+73   \n",
       "min        0.000000   0.000000e+00   0.000000e+00 -9.100354e+47 -2.052197e+73   \n",
       "25%     1036.329557   2.353436e+02   3.337019e+01  1.209592e+02  6.436265e+01   \n",
       "50%     1065.874591   2.597881e+02   3.799407e+01  1.478843e+02  7.531506e+01   \n",
       "75%     1085.232276   2.810791e+02   4.217362e+01  1.735541e+02  8.478798e+01   \n",
       "max     1754.257099   6.148505e+54   1.170791e+65  1.460727e+55  9.567496e+75   \n",
       "\n",
       "            failure         error       warning  \n",
       "count  21848.000000  21848.000000  21848.000000  \n",
       "mean       0.050806      0.000275      0.018583  \n",
       "std        0.219605      0.016570      0.135050  \n",
       "min        0.000000      0.000000      0.000000  \n",
       "25%        0.000000      0.000000      0.000000  \n",
       "50%        0.000000      0.000000      0.000000  \n",
       "75%        0.000000      0.000000      0.000000  \n",
       "max        1.000000      1.000000      1.000000  "
      ]
     },
     "metadata": {},
     "output_type": "display_data"
    }
   ],
   "source": [
    "display(test.describe())\n",
    "#print(test.info())"
   ]
  },
  {
   "cell_type": "markdown",
   "metadata": {},
   "source": [
    "This next block with replicate the logistic regression model from above, but will use all of the training data to train, and the predict on the official test data."
   ]
  },
  {
   "cell_type": "code",
   "execution_count": 20,
   "metadata": {},
   "outputs": [
    {
     "name": "stdout",
     "output_type": "stream",
     "text": [
      "Accuracy: 0.03844745514463566\n",
      "Precision: 0.03369891263592051\n",
      "Recall: 0.6477477477477478\n",
      "Logistic Regression score for training set: 0.036830\n",
      "              precision    recall  f1-score   support\n",
      "\n",
      "           0       0.24      0.01      0.01     20738\n",
      "           1       0.03      0.65      0.06      1110\n",
      "\n",
      "   micro avg       0.04      0.04      0.04     21848\n",
      "   macro avg       0.14      0.33      0.04     21848\n",
      "weighted avg       0.23      0.04      0.01     21848\n",
      "\n"
     ]
    },
    {
     "name": "stderr",
     "output_type": "stream",
     "text": [
      "/Library/Frameworks/Python.framework/Versions/3.7/lib/python3.7/site-packages/sklearn/linear_model/sag.py:334: ConvergenceWarning: The max_iter was reached which means the coef_ did not converge\n",
      "  \"the coef_ did not converge\", ConvergenceWarning)\n"
     ]
    }
   ],
   "source": [
    "prime = ['rpm','motor_voltage','motor_current','motor_temp','inlet_temp', 'error', 'warning']\n",
    "X_train = fin[prime]\n",
    "X_test = test[prime]\n",
    "y_train = fin['failure']\n",
    "y_test = test['failure']\n",
    "# Create training and test sets\n",
    "logreg = LogisticRegression(solver='sag')\n",
    "# fit the model with data\n",
    "logreg.fit(X_train,y_train)\n",
    "#predict\n",
    "y_pred=logreg.predict(X_test)\n",
    "\n",
    "print(\"Accuracy:\",metrics.accuracy_score(y_test, y_pred))\n",
    "print(\"Precision:\",metrics.precision_score(y_test, y_pred))\n",
    "print(\"Recall:\",metrics.recall_score(y_test, y_pred))\n",
    "\n",
    "\n",
    "print('Logistic Regression score for training set: %f' % logreg.score(X_train, y_train))\n",
    "from sklearn.metrics import classification_report\n",
    "print(classification_report(y_test, y_pred))"
   ]
  },
  {
   "cell_type": "code",
   "execution_count": 21,
   "metadata": {},
   "outputs": [
    {
     "data": {
      "text/html": [
       "<div>\n",
       "<style scoped>\n",
       "    .dataframe tbody tr th:only-of-type {\n",
       "        vertical-align: middle;\n",
       "    }\n",
       "\n",
       "    .dataframe tbody tr th {\n",
       "        vertical-align: top;\n",
       "    }\n",
       "\n",
       "    .dataframe thead th {\n",
       "        text-align: right;\n",
       "    }\n",
       "</style>\n",
       "<table border=\"1\" class=\"dataframe\">\n",
       "  <thead>\n",
       "    <tr style=\"text-align: right;\">\n",
       "      <th></th>\n",
       "      <th>rpm</th>\n",
       "      <th>motor_voltage</th>\n",
       "      <th>motor_current</th>\n",
       "      <th>motor_temp</th>\n",
       "      <th>inlet_temp</th>\n",
       "      <th>failure</th>\n",
       "      <th>error</th>\n",
       "      <th>warning</th>\n",
       "      <th>pred</th>\n",
       "    </tr>\n",
       "  </thead>\n",
       "  <tbody>\n",
       "    <tr>\n",
       "      <th>count</th>\n",
       "      <td>21848.000000</td>\n",
       "      <td>2.184800e+04</td>\n",
       "      <td>2.184800e+04</td>\n",
       "      <td>2.184800e+04</td>\n",
       "      <td>2.184800e+04</td>\n",
       "      <td>21848.000000</td>\n",
       "      <td>21848.000000</td>\n",
       "      <td>21848.000000</td>\n",
       "      <td>21848.000000</td>\n",
       "    </tr>\n",
       "    <tr>\n",
       "      <th>mean</th>\n",
       "      <td>931.117254</td>\n",
       "      <td>2.817374e+50</td>\n",
       "      <td>5.383985e+60</td>\n",
       "      <td>6.798236e+50</td>\n",
       "      <td>4.369724e+71</td>\n",
       "      <td>0.050806</td>\n",
       "      <td>0.000275</td>\n",
       "      <td>0.018583</td>\n",
       "      <td>0.976565</td>\n",
       "    </tr>\n",
       "    <tr>\n",
       "      <th>std</th>\n",
       "      <td>335.269942</td>\n",
       "      <td>4.159719e+52</td>\n",
       "      <td>7.920968e+62</td>\n",
       "      <td>9.883808e+52</td>\n",
       "      <td>6.472819e+73</td>\n",
       "      <td>0.219605</td>\n",
       "      <td>0.016570</td>\n",
       "      <td>0.135050</td>\n",
       "      <td>0.151283</td>\n",
       "    </tr>\n",
       "    <tr>\n",
       "      <th>min</th>\n",
       "      <td>0.000000</td>\n",
       "      <td>0.000000e+00</td>\n",
       "      <td>0.000000e+00</td>\n",
       "      <td>-9.100354e+47</td>\n",
       "      <td>-2.052197e+73</td>\n",
       "      <td>0.000000</td>\n",
       "      <td>0.000000</td>\n",
       "      <td>0.000000</td>\n",
       "      <td>0.000000</td>\n",
       "    </tr>\n",
       "    <tr>\n",
       "      <th>25%</th>\n",
       "      <td>1036.329557</td>\n",
       "      <td>2.353436e+02</td>\n",
       "      <td>3.337019e+01</td>\n",
       "      <td>1.209592e+02</td>\n",
       "      <td>6.436265e+01</td>\n",
       "      <td>0.000000</td>\n",
       "      <td>0.000000</td>\n",
       "      <td>0.000000</td>\n",
       "      <td>1.000000</td>\n",
       "    </tr>\n",
       "    <tr>\n",
       "      <th>50%</th>\n",
       "      <td>1065.874591</td>\n",
       "      <td>2.597881e+02</td>\n",
       "      <td>3.799407e+01</td>\n",
       "      <td>1.478843e+02</td>\n",
       "      <td>7.531506e+01</td>\n",
       "      <td>0.000000</td>\n",
       "      <td>0.000000</td>\n",
       "      <td>0.000000</td>\n",
       "      <td>1.000000</td>\n",
       "    </tr>\n",
       "    <tr>\n",
       "      <th>75%</th>\n",
       "      <td>1085.232276</td>\n",
       "      <td>2.810791e+02</td>\n",
       "      <td>4.217362e+01</td>\n",
       "      <td>1.735541e+02</td>\n",
       "      <td>8.478798e+01</td>\n",
       "      <td>0.000000</td>\n",
       "      <td>0.000000</td>\n",
       "      <td>0.000000</td>\n",
       "      <td>1.000000</td>\n",
       "    </tr>\n",
       "    <tr>\n",
       "      <th>max</th>\n",
       "      <td>1754.257099</td>\n",
       "      <td>6.148505e+54</td>\n",
       "      <td>1.170791e+65</td>\n",
       "      <td>1.460727e+55</td>\n",
       "      <td>9.567496e+75</td>\n",
       "      <td>1.000000</td>\n",
       "      <td>1.000000</td>\n",
       "      <td>1.000000</td>\n",
       "      <td>1.000000</td>\n",
       "    </tr>\n",
       "  </tbody>\n",
       "</table>\n",
       "</div>"
      ],
      "text/plain": [
       "                rpm  motor_voltage  motor_current    motor_temp    inlet_temp  \\\n",
       "count  21848.000000   2.184800e+04   2.184800e+04  2.184800e+04  2.184800e+04   \n",
       "mean     931.117254   2.817374e+50   5.383985e+60  6.798236e+50  4.369724e+71   \n",
       "std      335.269942   4.159719e+52   7.920968e+62  9.883808e+52  6.472819e+73   \n",
       "min        0.000000   0.000000e+00   0.000000e+00 -9.100354e+47 -2.052197e+73   \n",
       "25%     1036.329557   2.353436e+02   3.337019e+01  1.209592e+02  6.436265e+01   \n",
       "50%     1065.874591   2.597881e+02   3.799407e+01  1.478843e+02  7.531506e+01   \n",
       "75%     1085.232276   2.810791e+02   4.217362e+01  1.735541e+02  8.478798e+01   \n",
       "max     1754.257099   6.148505e+54   1.170791e+65  1.460727e+55  9.567496e+75   \n",
       "\n",
       "            failure         error       warning          pred  \n",
       "count  21848.000000  21848.000000  21848.000000  21848.000000  \n",
       "mean       0.050806      0.000275      0.018583      0.976565  \n",
       "std        0.219605      0.016570      0.135050      0.151283  \n",
       "min        0.000000      0.000000      0.000000      0.000000  \n",
       "25%        0.000000      0.000000      0.000000      1.000000  \n",
       "50%        0.000000      0.000000      0.000000      1.000000  \n",
       "75%        0.000000      0.000000      0.000000      1.000000  \n",
       "max        1.000000      1.000000      1.000000      1.000000  "
      ]
     },
     "metadata": {},
     "output_type": "display_data"
    }
   ],
   "source": [
    "test['pred'] = y_pred\n",
    "display(test.describe())"
   ]
  },
  {
   "cell_type": "markdown",
   "metadata": {},
   "source": [
    "I have not yet learned how to make use of the predictions created in such a way that I can determine the likelihood that a motor will fail. "
   ]
  },
  {
   "cell_type": "markdown",
   "metadata": {},
   "source": [
    "    -Closing-\n",
    "Thank you for the opportunity to take this challenge. I found it to be most interesting, and indeed challenging. The most difficult challenge was my limited knoweldge and comfort with the Python language. I recently completed a 'Data Scientist with Python' career track on datacamp.com, which taught me a great deal about working in Python, but this is by far the most code I have written in the language todate. \n",
    "\n",
    "If given the opportunity to join TagUp, you will find that I am a quick study, an abstract thinker, and a stark believer in efficiency. I kept my solution to this challenge very simple, partly due to my limitations with python, but also because I think that the simplest possible solution to analytical problems is often best. Adding complexity where it is not needed frustrates customers, and hurts your bottom line. This is not to say that one should not explore new and exciting methods, but that when push comes to shove, simplicity is king. \n",
    "\n",
    "Once again, Thank you so much for allowing me to work through the challenge! I think that the work you folks are doing is wicked cool!\n",
    "\n",
    "Cheers!\n",
    "\n",
    "Eric\n",
    "\n",
    "\n",
    "P.S. I found the solution in the git history ... It was very helpful."
   ]
  },
  {
   "cell_type": "code",
   "execution_count": 22,
   "metadata": {},
   "outputs": [
    {
     "name": "stdout",
     "output_type": "stream",
     "text": [
      "THE END\n"
     ]
    }
   ],
   "source": [
    "print('THE END')"
   ]
  }
 ],
 "metadata": {
  "kernelspec": {
   "display_name": "Python 3",
   "language": "python",
   "name": "python3"
  },
  "language_info": {
   "codemirror_mode": {
    "name": "ipython",
    "version": 3
   },
   "file_extension": ".py",
   "mimetype": "text/x-python",
   "name": "python",
   "nbconvert_exporter": "python",
   "pygments_lexer": "ipython3",
   "version": "3.7.0"
  }
 },
 "nbformat": 4,
 "nbformat_minor": 2
}
